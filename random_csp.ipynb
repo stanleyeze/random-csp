{
  "nbformat": 4,
  "nbformat_minor": 0,
  "metadata": {
    "colab": {
      "name": "random_csp.ipynb",
      "provenance": [],
      "collapsed_sections": [],
      "include_colab_link": true
    },
    "kernelspec": {
      "name": "python3",
      "display_name": "Python 3"
    }
  },
  "cells": [
    {
      "cell_type": "markdown",
      "metadata": {
        "id": "view-in-github",
        "colab_type": "text"
      },
      "source": [
        "<a href=\"https://colab.research.google.com/github/stanleyeze/random-csp/blob/master/random_csp.ipynb\" target=\"_parent\"><img src=\"https://colab.research.google.com/assets/colab-badge.svg\" alt=\"Open In Colab\"/></a>"
      ]
    },
    {
      "cell_type": "markdown",
      "metadata": {
        "id": "hgs3Ug0yyVP7",
        "colab_type": "text"
      },
      "source": [
        "# Binary CSP (Constraint Satisfaction Problem)"
      ]
    },
    {
      "cell_type": "markdown",
      "metadata": {
        "id": "qHKvevlywsSj",
        "colab_type": "text"
      },
      "source": [
        "\n",
        "Random generation of Binary CSP instances as specified by the model RB proposed in [1]. The choice of this model is motivated by the fact that it has exact phase transition and the ability to generate asymp-totically hard instances. Each CSP instance are generated using the parameters n, p, α and r where n is the number of variables, p (0 < p < 1) is the constraint tightness, and r and α (0 < r, α < 1) are two positive constants used by the model RB [1].\n",
        "\n",
        "1. Select with repetition rn ln n random constraints. Each random constraint is formed by selecting\n",
        "without repetition 2 of n variables.\n",
        "2. For each constraint we uniformly select without repetition pd2\n",
        "incompatible pairs of values, where d = n α is the domain size of each variable.\n",
        "3. All the variables have the same domain corresponding to the first d natural numbers (0 . . . d − 1).\n",
        "According to [1], the phase transition pt is calculated as follows: pt = 1 − e −α/r. Solvable problems are therefore generated with p < pt.\n"
      ]
    },
    {
      "cell_type": "markdown",
      "metadata": {
        "id": "AoGXoZHmy5zQ",
        "colab_type": "text"
      },
      "source": [
        "## Search Strategies\n",
        "\n",
        "1.   BT Standard Backtracking.\n",
        "2.   FC Forward Checking.\n",
        "3.   FLA Full Look Ahead (also called MAC).\n"
      ]
    },
    {
      "cell_type": "code",
      "metadata": {
        "id": "wmTc1ULWwcZ3",
        "colab_type": "code",
        "colab": {}
      },
      "source": [
        "class randomCSP:\n",
        "  #initialize the class\n",
        "    def __init__(self, nVariables, cTightness, alpha, beta):\n",
        "      #class attributes for n, p, α and r\n",
        "      self.nVariables = int(nVariables)\n",
        "      self.cTightness = float(cTightness)\n",
        "      self.alpha = float(alpha)\n",
        "      self.beta = float(beta)\n",
        "    \n",
        "    \n",
        "                      \n",
        "#calculate the domain size, number of constraints and number of incompactible tuples\n",
        "    def computValues(self):\n",
        "      import math\n",
        "      domainSize =  int(self.nVariables)**float(self.alpha)\n",
        "      numberOfConstraints = (float(self.beta)* int(self.nVariables))*(math.log(int(self.nVariables)))\n",
        "      numberOfIncompactibleTuples = float(self.cTightness)*(round(domainSize)**2)\n",
        "\n",
        "      return domainSize, numberOfConstraints, numberOfIncompactibleTuples \n",
        "\n",
        "      \n",
        "#generates the unique variables required\n",
        "    def generateVariables(self, nVariables):\n",
        "      count = 0\n",
        "      variables = set()\n",
        "\n",
        "      while count < nVariables:\n",
        "          variables.add(\"X\"+str(count))\n",
        "          count+=1\n",
        "      return variables \n",
        "\n",
        "#generates the domains from the domain size\n",
        "    def generateDomain(self,numdomains):\n",
        "        count = 0\n",
        "        domains = set()\n",
        "\n",
        "        while count < round(domainSize):\n",
        "            domains.add(count)\n",
        "            count+=1\n",
        "        return domains\n",
        "\n",
        "#generates constraints\n",
        "    def generateConstraints(self,numberOfConstraints, variables):\n",
        "      import random\n",
        "      count = 0\n",
        "      constraints = []\n",
        "      while count < round(numberOfConstraints):\n",
        "        #random selection of constrained variable\n",
        "          constraint = random.sample(variables, 2)\n",
        "          reversedConstraints = [constraint[0], constraint[1]]\n",
        "\n",
        "          if not constraint in constraints and not reversedConstraints in constraints:\n",
        "              constraints.append(constraint)\n",
        "              count+=1\n",
        "      return constraints \n",
        "      \n",
        "\n",
        "#generates the final constraints and tupple pairs\n",
        "    def constraintAndTupples(self,generatedConstratsList, generatedDomainsList, numberOfIncompactibleTuples):\n",
        "      import random\n",
        "      constraints = []\n",
        "      tupples = []\n",
        "      finalTuple = []\n",
        "      count =0\n",
        "      for item, value in enumerate(generatedConstratsList):\n",
        "          constraint = generatedConstratsList[item]\n",
        "          constraints.append(constraint)\n",
        "\n",
        "          while count < numberOfIncompactibleTuples:\n",
        "              tup = random.sample(generatedDomainsList, 2)\n",
        "\n",
        "              if tup in tupples:\n",
        "                  continue\n",
        "              else:\n",
        "                  tupples.append(tup)\n",
        "                  count+=1\n",
        "          finalTuple.append(tupples)\n",
        "          tupples = []\n",
        "          count = 0\n",
        "\n",
        "      return finalTuple, constraints   \n",
        "                   \n",
        "    \n",
        "    "
      ],
      "execution_count": 0,
      "outputs": []
    },
    {
      "cell_type": "markdown",
      "metadata": {
        "id": "qQQKO4i30gH1",
        "colab_type": "text"
      },
      "source": [
        "## Input and Output\n",
        "\n",
        "### User Input\n",
        "To run this program, these input are espected from the user n, p, α and r\n",
        "\n",
        "1.   number of variables(n)\n",
        "2.   constraint tightness(p)\n",
        "3.   constant(α)\n",
        "4.   constant(r)\n",
        "\n"
      ]
    },
    {
      "cell_type": "markdown",
      "metadata": {
        "id": "9BTg3b9o6uGL",
        "colab_type": "text"
      },
      "source": [
        "# Run Program"
      ]
    },
    {
      "cell_type": "code",
      "metadata": {
        "id": "Ijd_kb9M1hpX",
        "colab_type": "code",
        "outputId": "f164534b-b0da-4d2f-92e8-61e50e5c7347",
        "colab": {
          "base_uri": "https://localhost:8080/",
          "height": 317
        }
      },
      "source": [
        "#get input from the user from console\n",
        "nVariables = input(\"Enter the number of variables\\n\")\n",
        "print(\"...............................\\n\")\n",
        "\n",
        "cTightness = input(\"Enter constraint tightness p 0 < p < 1  A number between 0 and 1\\n\")\n",
        "print(\"...............................\\n\")\n",
        "\n",
        "alpha =  input(\"Enter alpha constant p 0 < p < 1  A number between 0 and 1\\n\")\n",
        "print(\"...............................\\n\")\n",
        "\n",
        "beta = input(\"Enter beta constant p 0 < p < 1  A number between 0 and 1\\n\")\n",
        "print(\"...............................\\n\")"
      ],
      "execution_count": 0,
      "outputs": [
        {
          "output_type": "stream",
          "text": [
            "Enter the number of variables\n",
            "5\n",
            "...............................\n",
            "\n",
            "Enter constraint tightness p 0 < p < 1  A number between 0 and 1\n",
            ".5\n",
            "...............................\n",
            "\n",
            "Enter alpha constant p 0 < p < 1  A number between 0 and 1\n",
            ".3\n",
            "...............................\n",
            "\n",
            "Enter beta constant p 0 < p < 1  A number between 0 and 1\n",
            ".3\n",
            "...............................\n",
            "\n"
          ],
          "name": "stdout"
        }
      ]
    },
    {
      "cell_type": "code",
      "metadata": {
        "id": "j4Gi11q466Yq",
        "colab_type": "code",
        "colab": {}
      },
      "source": [
        "#create the object of randonCSP\n",
        "randomCSP = randomCSP(nVariables,cTightness,alpha,beta)\n",
        "\n",
        "#get the domain size, number of constraints, number of incompactible tupples\n",
        "domainSize,numberOfConstraints,numberOfIncompactibleTuples = randomCSP.computValues()\n",
        "\n",
        "#generates out put for all the random csp values\n",
        "generatedDomainsList = randomCSP.generateDomain(domainSize)\n",
        "generatedVariables =  randomCSP.generateVariables(randomCSP.nVariables);\n",
        "generatedConstratsList = randomCSP.generateConstraints(numberOfConstraints, generatedVariables)\n",
        "finalTuple, constraints = randomCSP.constraintAndTupples(generatedConstratsList, generatedDomainsList, numberOfIncompactibleTuples)"
      ],
      "execution_count": 0,
      "outputs": []
    },
    {
      "cell_type": "markdown",
      "metadata": {
        "id": "VW91xQpQC9Qa",
        "colab_type": "text"
      },
      "source": [
        "# Output"
      ]
    },
    {
      "cell_type": "code",
      "metadata": {
        "id": "B1VmKyNrDAl3",
        "colab_type": "code",
        "outputId": "6a451455-4e45-4fbc-f4a5-aa30f2684dd2",
        "colab": {
          "base_uri": "https://localhost:8080/",
          "height": 335
        }
      },
      "source": [
        "#print random constraints and incompactible tupples\n",
        "print(\"....................................................................\")\n",
        "print(\"..............USER INPUTS....................\")\n",
        "print(\"Number of variables: \"+str(nVariables))\n",
        "print(\"Constratint tightness: \"+str(cTightness))\n",
        "print(\"Alpha constant: \"+str(alpha))\n",
        "print(\"Beta constant: \"+str(beta))\n",
        "print(\"\\n\")\n",
        "print(\"...............Generated Input......................................\")\n",
        "print(\"Size of Domain: \"+ str(round(domainSize)))\n",
        "print(\"number of incompactible tuples: \"+str(round(numberOfIncompactibleTuples)))\n",
        "print(\"Number of Constraints: \"+str(round(numberOfConstraints)))\n",
        "print('....................................................................')\n",
        "\n",
        "for val,item in enumerate(constraints):\n",
        "    print(\"{}  {}\\n\".format(constraints[val], finalTuple[val]))\n",
        "\n",
        "#print(finalTuple)\n"
      ],
      "execution_count": 0,
      "outputs": [
        {
          "output_type": "stream",
          "text": [
            "....................................................................\n",
            "..............USER INPUTS....................\n",
            "Number of variables: 5\n",
            "Constratint tightness: .5\n",
            "Alpha constant: .3\n",
            "Beta constant: .3\n",
            "\n",
            "\n",
            "...............Generated Input......................................\n",
            "Size of Domain: 2\n",
            "number of incompactible tuples: 2\n",
            "Number of Constraints: 2\n",
            "....................................................................\n",
            "['X4', 'X1']  [[1, 0], [0, 1]]\n",
            "\n",
            "['X2', 'X4']  [[1, 0], [0, 1]]\n",
            "\n"
          ],
          "name": "stdout"
        }
      ]
    }
  ]
}